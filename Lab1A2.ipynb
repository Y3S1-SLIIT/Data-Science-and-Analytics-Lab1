{
 "cells": [
  {
   "cell_type": "markdown",
   "id": "d8a30cfd-c481-408f-9e9f-ba77e00376a9",
   "metadata": {},
   "source": [
    "# Activity 2"
   ]
  },
  {
   "cell_type": "markdown",
   "id": "13061e6a-b156-4f16-9f39-8836183caf10",
   "metadata": {},
   "source": [
    "## How to Detect and Remove Outliers"
   ]
  },
  {
   "cell_type": "markdown",
   "id": "7f752e61-abf2-4e0c-84fc-3ff8fbde5ade",
   "metadata": {},
   "source": [
    "### Step-1: Importing Necessary Dependencies and load the dataset"
   ]
  },
  {
   "cell_type": "code",
   "execution_count": 4,
   "id": "a94387dc-934a-4dbc-b9bb-2327f015e579",
   "metadata": {},
   "outputs": [],
   "source": [
    "import pandas as pd\n",
    "import matplotlib.pyplot as plt\n",
    "import seaborn as sns\n",
    "import numpy as np"
   ]
  },
  {
   "cell_type": "code",
   "execution_count": 6,
   "id": "0842f0b0-daa4-4eb8-ad79-ff0b47519891",
   "metadata": {},
   "outputs": [],
   "source": [
    "df_boston = pd.read_csv('Airdata.csv')"
   ]
  },
  {
   "cell_type": "markdown",
   "id": "487bc1e7-1751-4c5e-a7eb-e282529921b4",
   "metadata": {},
   "source": [
    "### Step-2: Show a preview of the dataset"
   ]
  },
  {
   "cell_type": "code",
   "execution_count": 9,
   "id": "78c7120e-dd46-4ec3-82f0-f3901c039b6c",
   "metadata": {},
   "outputs": [
    {
     "data": {
      "text/html": [
       "<div>\n",
       "<style scoped>\n",
       "    .dataframe tbody tr th:only-of-type {\n",
       "        vertical-align: middle;\n",
       "    }\n",
       "\n",
       "    .dataframe tbody tr th {\n",
       "        vertical-align: top;\n",
       "    }\n",
       "\n",
       "    .dataframe thead th {\n",
       "        text-align: right;\n",
       "    }\n",
       "</style>\n",
       "<table border=\"1\" class=\"dataframe\">\n",
       "  <thead>\n",
       "    <tr style=\"text-align: right;\">\n",
       "      <th></th>\n",
       "      <th>DateTime</th>\n",
       "      <th>Temperature</th>\n",
       "      <th>Humidity</th>\n",
       "      <th>Wind_Speed</th>\n",
       "      <th>Wind_Direction</th>\n",
       "      <th>NO2_Location_A</th>\n",
       "      <th>NO2_Location_B</th>\n",
       "      <th>NO2_Location_C</th>\n",
       "    </tr>\n",
       "  </thead>\n",
       "  <tbody>\n",
       "    <tr>\n",
       "      <th>0</th>\n",
       "      <td>1/1/2020 0:00</td>\n",
       "      <td>2.180529</td>\n",
       "      <td>87</td>\n",
       "      <td>1.484318</td>\n",
       "      <td>75.963760</td>\n",
       "      <td>39.23</td>\n",
       "      <td>52.88</td>\n",
       "      <td>62.37</td>\n",
       "    </tr>\n",
       "    <tr>\n",
       "      <th>1</th>\n",
       "      <td>1/1/2020 1:00</td>\n",
       "      <td>1.490529</td>\n",
       "      <td>89</td>\n",
       "      <td>2.741678</td>\n",
       "      <td>113.198590</td>\n",
       "      <td>38.30</td>\n",
       "      <td>44.95</td>\n",
       "      <td>52.53</td>\n",
       "    </tr>\n",
       "    <tr>\n",
       "      <th>2</th>\n",
       "      <td>1/1/2020 2:00</td>\n",
       "      <td>1.690529</td>\n",
       "      <td>85</td>\n",
       "      <td>3.563818</td>\n",
       "      <td>135.000000</td>\n",
       "      <td>NaN</td>\n",
       "      <td>48.40</td>\n",
       "      <td>54.80</td>\n",
       "    </tr>\n",
       "    <tr>\n",
       "      <th>3</th>\n",
       "      <td>1/1/2020 3:00</td>\n",
       "      <td>1.430529</td>\n",
       "      <td>84</td>\n",
       "      <td>2.811690</td>\n",
       "      <td>129.805570</td>\n",
       "      <td>37.28</td>\n",
       "      <td>47.18</td>\n",
       "      <td>50.80</td>\n",
       "    </tr>\n",
       "    <tr>\n",
       "      <th>4</th>\n",
       "      <td>1/1/2020 4:00</td>\n",
       "      <td>0.840529</td>\n",
       "      <td>86</td>\n",
       "      <td>1.800000</td>\n",
       "      <td>126.869896</td>\n",
       "      <td>29.97</td>\n",
       "      <td>41.48</td>\n",
       "      <td>54.43</td>\n",
       "    </tr>\n",
       "  </tbody>\n",
       "</table>\n",
       "</div>"
      ],
      "text/plain": [
       "        DateTime  Temperature  Humidity  Wind_Speed  Wind_Direction  \\\n",
       "0  1/1/2020 0:00     2.180529        87    1.484318       75.963760   \n",
       "1  1/1/2020 1:00     1.490529        89    2.741678      113.198590   \n",
       "2  1/1/2020 2:00     1.690529        85    3.563818      135.000000   \n",
       "3  1/1/2020 3:00     1.430529        84    2.811690      129.805570   \n",
       "4  1/1/2020 4:00     0.840529        86    1.800000      126.869896   \n",
       "\n",
       "   NO2_Location_A  NO2_Location_B  NO2_Location_C  \n",
       "0           39.23           52.88           62.37  \n",
       "1           38.30           44.95           52.53  \n",
       "2             NaN           48.40           54.80  \n",
       "3           37.28           47.18           50.80  \n",
       "4           29.97           41.48           54.43  "
      ]
     },
     "execution_count": 9,
     "metadata": {},
     "output_type": "execute_result"
    }
   ],
   "source": [
    "df_boston.head()"
   ]
  },
  {
   "cell_type": "markdown",
   "id": "1bd2a842-834b-4bc1-a1ac-e27960c3ac9b",
   "metadata": {},
   "source": [
    "### Step-3: Generate a Box-plot for the NO2_Location_A feature"
   ]
  },
  {
   "cell_type": "code",
   "execution_count": 12,
   "id": "779b988e-81cf-4c69-83bc-53bed8cb5f64",
   "metadata": {},
   "outputs": [
    {
     "data": {
      "image/png": "[encoded data removed]",
      "text/plain": [
       "<Figure size 640x480 with 1 Axes>"
      ]
     },
     "metadata": {},
     "output_type": "display_data"
    }
   ],
   "source": [
    "sns.boxplot(df_boston['NO2_Location_A'])\n",
    "plt.show()"
   ]
  },
  {
   "cell_type": "markdown",
   "id": "0af34278-3116-4a33-b57a-3fa9e097e82d",
   "metadata": {},
   "source": [
    "### Step-4: Finding the IQR"
   ]
  },
  {
   "cell_type": "code",
   "execution_count": 15,
   "id": "2eb015a1-8a03-47dd-8430-c4bbcd18531d",
   "metadata": {},
   "outputs": [],
   "source": [
    "percentile25 = df_boston['NO2_Location_A'].quantile(0.25)\n",
    "percentile75 = df_boston['NO2_Location_A'].quantile(0.75)"
   ]
  },
  {
   "cell_type": "code",
   "execution_count": 17,
   "id": "56a0416a-715d-4bcb-8b6c-fb713fd3b4ad",
   "metadata": {},
   "outputs": [],
   "source": [
    "iqr = percentile75-percentile25"
   ]
  },
  {
   "cell_type": "markdown",
   "id": "23d51359-a375-4cdf-bf16-1a8077c757e9",
   "metadata": {},
   "source": [
    "### Step-5: Finding upper and lower limit"
   ]
  },
  {
   "cell_type": "code",
   "execution_count": 20,
   "id": "d44735f3-b627-4f04-9b07-0fb26d7f9b51",
   "metadata": {},
   "outputs": [],
   "source": [
    "upper_limit = percentile75 + (1.5 * iqr)\n",
    "lower_limit = percentile25 - (1.5 * iqr)"
   ]
  },
  {
   "cell_type": "markdown",
   "id": "859b51ee-ec8e-4b20-8f6c-9901abd2d831",
   "metadata": {},
   "source": [
    "### Step-6: Capping"
   ]
  },
  {
   "cell_type": "code",
   "execution_count": 23,
   "id": "40b9d90b-ba8f-48d6-8610-468b9029ba04",
   "metadata": {},
   "outputs": [],
   "source": [
    "new_df_cap = df_boston.copy()\n",
    "new_df_cap['NO2_Location_A'] = np.where(\n",
    "    new_df_cap['NO2_Location_A'] >= upper_limit, upper_limit,\n",
    "    np.where(new_df_cap['NO2_Location_A'] <= lower_limit, lower_limit,\n",
    "        new_df_cap['NO2_Location_A']\n",
    "    )\n",
    ")"
   ]
  },
  {
   "cell_type": "markdown",
   "id": "0f5d9180-6aae-4822-b37e-e67e7e5f2c80",
   "metadata": {},
   "source": [
    "### Step-7: Draw boxplot after capping"
   ]
  },
  {
   "cell_type": "code",
   "execution_count": 26,
   "id": "352f117c-3e2e-466c-8612-1601e2d828b7",
   "metadata": {},
   "outputs": [
    {
     "data": {
      "image/png": "[encoded data removed]",
      "text/plain": [
       "<Figure size 640x480 with 1 Axes>"
      ]
     },
     "metadata": {},
     "output_type": "display_data"
    }
   ],
   "source": [
    "sns.boxplot(new_df_cap['NO2_Location_A'])\n",
    "plt.show()"
   ]
  },
  {
   "cell_type": "code",
   "execution_count": null,
   "id": "5ccdc17a-7816-4350-b4fd-4d11be11a4ac",
   "metadata": {},
   "outputs": [],
   "source": []
  }
 ],
 "metadata": {
  "kernelspec": {
   "display_name": "Python 3 (ipykernel)",
   "language": "python",
   "name": "python3"
  },
  "language_info": {
   "codemirror_mode": {
    "name": "ipython",
    "version": 3
   },
   "file_extension": ".py",
   "mimetype": "text/x-python",
   "name": "python",
   "nbconvert_exporter": "python",
   "pygments_lexer": "ipython3",
   "version": "3.12.4"
  }
 },
 "nbformat": 4,
 "nbformat_minor": 5
}
